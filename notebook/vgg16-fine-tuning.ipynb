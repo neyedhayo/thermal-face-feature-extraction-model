{
  "cells": [
    {
      "cell_type": "code",
      "execution_count": null,
      "metadata": {
        "colab": {
          "base_uri": "https://localhost:8080/"
        },
        "id": "TnBfqElB5G6d",
        "outputId": "ed43cdd3-bfe0-4d97-a909-8ee9ac00cb23"
      },
      "outputs": [
        {
          "name": "stdout",
          "output_type": "stream",
          "text": [
            "Mounted at /content/drive/\n"
          ]
        }
      ],
      "source": [
        "from google.colab import drive\n",
        "drive.mount('/content/drive/')"
      ]
    },
    {
      "cell_type": "code",
      "execution_count": null,
      "metadata": {
        "id": "MIk_B-J-5arv"
      },
      "outputs": [],
      "source": [
        "import tensorflow as tf\n",
        "from tensorflow.keras.preprocessing.image import ImageDataGenerator, load_img, img_to_array\n",
        "from tensorflow.keras.applications import VGG16\n",
        "from tensorflow.keras import models, layers, optimizers\n",
        "from keras.models import Model\n",
        "from keras import layers\n",
        "from keras import models\n",
        "from keras.layers import BatchNormalization\n",
        "from tensorflow.keras.utils import Sequence\n",
        "\n",
        "import os, shutil\n",
        "import numpy as np\n",
        "import time\n",
        "import io\n",
        "from PIL import Image\n",
        "\n",
        "\n",
        "from keras import metrics\n",
        "import functools\n",
        "from functools import partial\n",
        "\n",
        "import matplotlib.pyplot as plt"
      ]
    },
    {
      "cell_type": "code",
      "execution_count": null,
      "metadata": {
        "colab": {
          "base_uri": "https://localhost:8080/"
        },
        "id": "Ts8hGlAO5cMe",
        "outputId": "dcbe5c11-aab3-45b1-c73a-84240069ec11"
      },
      "outputs": [
        {
          "name": "stdout",
          "output_type": "stream",
          "text": [
            "Downloading data from https://storage.googleapis.com/tensorflow/keras-applications/vgg16/vgg16_weights_tf_dim_ordering_tf_kernels_notop.h5\n",
            "58889256/58889256 [==============================] - 0s 0us/step\n"
          ]
        }
      ],
      "source": [
        "# Load the VGG16 model\n",
        "conv_base = VGG16(weights='imagenet', include_top=False, input_shape=(72, 96, 3))"
      ]
    },
    {
      "cell_type": "code",
      "execution_count": null,
      "metadata": {
        "colab": {
          "base_uri": "https://localhost:8080/"
        },
        "id": "923Rz7NVDV1K",
        "outputId": "a7ecb003-8e78-4f91-c606-004a96ce1c6f"
      },
      "outputs": [
        {
          "name": "stdout",
          "output_type": "stream",
          "text": [
            "Model: \"vgg16\"\n",
            "_________________________________________________________________\n",
            " Layer (type)                Output Shape              Param #   \n",
            "=================================================================\n",
            " input_1 (InputLayer)        [(None, 72, 96, 3)]       0         \n",
            "                                                                 \n",
            " block1_conv1 (Conv2D)       (None, 72, 96, 64)        1792      \n",
            "                                                                 \n",
            " block1_conv2 (Conv2D)       (None, 72, 96, 64)        36928     \n",
            "                                                                 \n",
            " block1_pool (MaxPooling2D)  (None, 36, 48, 64)        0         \n",
            "                                                                 \n",
            " block2_conv1 (Conv2D)       (None, 36, 48, 128)       73856     \n",
            "                                                                 \n",
            " block2_conv2 (Conv2D)       (None, 36, 48, 128)       147584    \n",
            "                                                                 \n",
            " block2_pool (MaxPooling2D)  (None, 18, 24, 128)       0         \n",
            "                                                                 \n",
            " block3_conv1 (Conv2D)       (None, 18, 24, 256)       295168    \n",
            "                                                                 \n",
            " block3_conv2 (Conv2D)       (None, 18, 24, 256)       590080    \n",
            "                                                                 \n",
            " block3_conv3 (Conv2D)       (None, 18, 24, 256)       590080    \n",
            "                                                                 \n",
            " block3_pool (MaxPooling2D)  (None, 9, 12, 256)        0         \n",
            "                                                                 \n",
            " block4_conv1 (Conv2D)       (None, 9, 12, 512)        1180160   \n",
            "                                                                 \n",
            " block4_conv2 (Conv2D)       (None, 9, 12, 512)        2359808   \n",
            "                                                                 \n",
            " block4_conv3 (Conv2D)       (None, 9, 12, 512)        2359808   \n",
            "                                                                 \n",
            " block4_pool (MaxPooling2D)  (None, 4, 6, 512)         0         \n",
            "                                                                 \n",
            " block5_conv1 (Conv2D)       (None, 4, 6, 512)         2359808   \n",
            "                                                                 \n",
            " block5_conv2 (Conv2D)       (None, 4, 6, 512)         2359808   \n",
            "                                                                 \n",
            " block5_conv3 (Conv2D)       (None, 4, 6, 512)         2359808   \n",
            "                                                                 \n",
            " block5_pool (MaxPooling2D)  (None, 2, 3, 512)         0         \n",
            "                                                                 \n",
            "=================================================================\n",
            "Total params: 14714688 (56.13 MB)\n",
            "Trainable params: 14714688 (56.13 MB)\n",
            "Non-trainable params: 0 (0.00 Byte)\n",
            "_________________________________________________________________\n"
          ]
        }
      ],
      "source": [
        "conv_base.summary()"
      ]
    },
    {
      "cell_type": "code",
      "execution_count": null,
      "metadata": {
        "id": "-WHjvgVsDYPJ"
      },
      "outputs": [],
      "source": [
        "inp = conv_base.input\n",
        "out =conv_base.layers[-1].output"
      ]
    },
    {
      "cell_type": "code",
      "execution_count": null,
      "metadata": {
        "id": "oBdBQcscDgU_"
      },
      "outputs": [],
      "source": [
        "thermalModel = Model(inp, out)"
      ]
    },
    {
      "cell_type": "code",
      "execution_count": null,
      "metadata": {
        "id": "AxQ9AngODiLg"
      },
      "outputs": [],
      "source": [
        "#From the first 10 layers, only the last three are set up to allow the training.\n",
        "cont = 0\n",
        "for layer in thermalModel.layers:\n",
        "    cont = cont + 1\n",
        "    if (cont >= 8):\n",
        "        layer.trainable = True\n",
        "    else:\n",
        "        layer.trainable = False"
      ]
    },
    {
      "cell_type": "code",
      "execution_count": null,
      "metadata": {
        "colab": {
          "base_uri": "https://localhost:8080/"
        },
        "id": "1yWIWywYDkap",
        "outputId": "47e3a7a9-5a03-4fd3-ec23-41f79b78a386"
      },
      "outputs": [
        {
          "name": "stdout",
          "output_type": "stream",
          "text": [
            "Model: \"model\"\n",
            "_________________________________________________________________\n",
            " Layer (type)                Output Shape              Param #   \n",
            "=================================================================\n",
            " input_1 (InputLayer)        [(None, 72, 96, 3)]       0         \n",
            "                                                                 \n",
            " block1_conv1 (Conv2D)       (None, 72, 96, 64)        1792      \n",
            "                                                                 \n",
            " block1_conv2 (Conv2D)       (None, 72, 96, 64)        36928     \n",
            "                                                                 \n",
            " block1_pool (MaxPooling2D)  (None, 36, 48, 64)        0         \n",
            "                                                                 \n",
            " block2_conv1 (Conv2D)       (None, 36, 48, 128)       73856     \n",
            "                                                                 \n",
            " block2_conv2 (Conv2D)       (None, 36, 48, 128)       147584    \n",
            "                                                                 \n",
            " block2_pool (MaxPooling2D)  (None, 18, 24, 128)       0         \n",
            "                                                                 \n",
            " block3_conv1 (Conv2D)       (None, 18, 24, 256)       295168    \n",
            "                                                                 \n",
            " block3_conv2 (Conv2D)       (None, 18, 24, 256)       590080    \n",
            "                                                                 \n",
            " block3_conv3 (Conv2D)       (None, 18, 24, 256)       590080    \n",
            "                                                                 \n",
            " block3_pool (MaxPooling2D)  (None, 9, 12, 256)        0         \n",
            "                                                                 \n",
            " block4_conv1 (Conv2D)       (None, 9, 12, 512)        1180160   \n",
            "                                                                 \n",
            " block4_conv2 (Conv2D)       (None, 9, 12, 512)        2359808   \n",
            "                                                                 \n",
            " block4_conv3 (Conv2D)       (None, 9, 12, 512)        2359808   \n",
            "                                                                 \n",
            " block4_pool (MaxPooling2D)  (None, 4, 6, 512)         0         \n",
            "                                                                 \n",
            " block5_conv1 (Conv2D)       (None, 4, 6, 512)         2359808   \n",
            "                                                                 \n",
            " block5_conv2 (Conv2D)       (None, 4, 6, 512)         2359808   \n",
            "                                                                 \n",
            " block5_conv3 (Conv2D)       (None, 4, 6, 512)         2359808   \n",
            "                                                                 \n",
            " block5_pool (MaxPooling2D)  (None, 2, 3, 512)         0         \n",
            "                                                                 \n",
            "=================================================================\n",
            "Total params: 14714688 (56.13 MB)\n",
            "Trainable params: 14454528 (55.14 MB)\n",
            "Non-trainable params: 260160 (1016.25 KB)\n",
            "_________________________________________________________________\n"
          ]
        }
      ],
      "source": [
        "thermalModel.summary()"
      ]
    },
    {
      "cell_type": "code",
      "execution_count": null,
      "metadata": {
        "colab": {
          "base_uri": "https://localhost:8080/"
        },
        "id": "mY66G8YKDmOd",
        "outputId": "dea0bb97-227c-4a32-e862-b2dd1f5d68a7"
      },
      "outputs": [
        {
          "name": "stdout",
          "output_type": "stream",
          "text": [
            "Training classes: 16\n",
            "Testing classes: 16\n",
            "Validation classes: 16\n"
          ]
        }
      ],
      "source": [
        "def count_directories(path):\n",
        "    return len([name for name in os.listdir(path) if os.path.isdir(os.path.join(path, name))])\n",
        "\n",
        "train_classes = count_directories('/content/drive/MyDrive/ExtractedTerravicDatabase_subset/train')\n",
        "test_classes = count_directories('/content/drive/MyDrive/ExtractedTerravicDatabase_subset/test')\n",
        "validation_classes = count_directories('/content/drive/MyDrive/ExtractedTerravicDatabase_subset/val')\n",
        "\n",
        "print(f\"Training classes: {train_classes}\")\n",
        "print(f\"Testing classes: {test_classes}\")\n",
        "print(f\"Validation classes: {validation_classes}\")"
      ]
    },
    {
      "cell_type": "code",
      "execution_count": null,
      "metadata": {
        "id": "8qYmmsTZDoKm"
      },
      "outputs": [],
      "source": [
        "# Directories for train, val, test\n",
        "train_dir = '/content/drive/MyDrive/ExtractedTerravicDatabase_subset/train'\n",
        "val_dir = '/content/drive/MyDrive/ExtractedTerravicDatabase_subset/val'\n",
        "test_dir = '/content/drive/MyDrive/ExtractedTerravicDatabase_subset/test'\n"
      ]
    },
    {
      "cell_type": "code",
      "execution_count": null,
      "metadata": {
        "id": "uiPFJrCYD2kR"
      },
      "outputs": [],
      "source": [
        "model = models.Sequential()\n",
        "model.add(thermalModel)\n",
        "model.add(layers.MaxPooling2D((2, 2)))\n",
        "model.add(layers.BatchNormalization())\n",
        "model.add(layers.Flatten())\n",
        "# model.add(layers.Dense(256, activation='relu'))\n",
        "# model.add(layers.Dropout(0.5))\n",
        "model.add(layers.Dense(16, activation='softmax'))"
      ]
    },
    {
      "cell_type": "code",
      "execution_count": null,
      "metadata": {
        "colab": {
          "base_uri": "https://localhost:8080/"
        },
        "id": "Oeh_lZq0D545",
        "outputId": "8f2cce71-1817-4776-dfb0-eb41a4ada4da"
      },
      "outputs": [
        {
          "name": "stdout",
          "output_type": "stream",
          "text": [
            "Model: \"sequential\"\n",
            "_________________________________________________________________\n",
            " Layer (type)                Output Shape              Param #   \n",
            "=================================================================\n",
            " model (Functional)          (None, 2, 3, 512)         14714688  \n",
            "                                                                 \n",
            " max_pooling2d (MaxPooling2  (None, 1, 1, 512)         0         \n",
            " D)                                                              \n",
            "                                                                 \n",
            " batch_normalization (Batch  (None, 1, 1, 512)         2048      \n",
            " Normalization)                                                  \n",
            "                                                                 \n",
            " flatten (Flatten)           (None, 512)               0         \n",
            "                                                                 \n",
            " dense (Dense)               (None, 16)                8208      \n",
            "                                                                 \n",
            "=================================================================\n",
            "Total params: 14724944 (56.17 MB)\n",
            "Trainable params: 14463760 (55.17 MB)\n",
            "Non-trainable params: 261184 (1020.25 KB)\n",
            "_________________________________________________________________\n"
          ]
        }
      ],
      "source": [
        "model.summary()"
      ]
    },
    {
      "cell_type": "code",
      "execution_count": null,
      "metadata": {
        "id": "RjAxmdiaD7HR"
      },
      "outputs": [],
      "source": [
        "top2_acc = functools.partial(metrics.top_k_categorical_accuracy, k=2)\n",
        "top3_acc = functools.partial(metrics.top_k_categorical_accuracy, k=3)\n",
        "top4_acc = functools.partial(metrics.top_k_categorical_accuracy, k=4)\n",
        "top5_acc = functools.partial(metrics.top_k_categorical_accuracy, k=5)\n",
        "top2_acc.__name__ = 'top2_acc'\n",
        "top3_acc.__name__ = 'top3_acc'\n",
        "top4_acc.__name__ = 'top4_acc'\n",
        "top5_acc.__name__ = 'top5_acc'"
      ]
    },
    {
      "cell_type": "code",
      "execution_count": null,
      "metadata": {
        "id": "GlYJnNLnD85a"
      },
      "outputs": [],
      "source": [
        "model.compile(loss='categorical_crossentropy',\n",
        "              optimizer=optimizers.RMSprop(learning_rate=1e-4), #Decrease learning rate\n",
        "              metrics=['accuracy',top2_acc, top3_acc, top4_acc, top5_acc])"
      ]
    },
    {
      "cell_type": "code",
      "execution_count": null,
      "metadata": {
        "id": "2q8gmEtmD-tp"
      },
      "outputs": [],
      "source": [
        "# Image size and batch size\n",
        "image_size = (72, 96)\n",
        "batch_size = 4"
      ]
    },
    {
      "cell_type": "code",
      "execution_count": null,
      "metadata": {
        "colab": {
          "base_uri": "https://localhost:8080/"
        },
        "id": "Sjgb5gFlEATz",
        "outputId": "3be8f6e1-f31f-4ae2-8b63-6b1972b68479"
      },
      "outputs": [
        {
          "name": "stdout",
          "output_type": "stream",
          "text": [
            "Found 2136 images belonging to 16 classes.\n",
            "Found 1137 images belonging to 16 classes.\n",
            "Found 1139 images belonging to 16 classes.\n"
          ]
        }
      ],
      "source": [
        "# Only rescaling for training, validation, and test data\n",
        "datagen = ImageDataGenerator(rescale=1./255)\n",
        "\n",
        "# Only rescaling for validation and test data\n",
        "val_test_datagen = ImageDataGenerator(rescale=1./255)\n",
        "\n",
        "train_generator = datagen.flow_from_directory(\n",
        "    train_dir,\n",
        "    target_size=image_size,\n",
        "    batch_size=batch_size,\n",
        "    color_mode='rgb',\n",
        "    class_mode='categorical'\n",
        ")\n",
        "\n",
        "val_generator = val_test_datagen.flow_from_directory(\n",
        "    val_dir,\n",
        "    target_size=image_size,\n",
        "    batch_size=batch_size,\n",
        "    color_mode='rgb',\n",
        "    class_mode='categorical'\n",
        ")\n",
        "\n",
        "test_generator = val_test_datagen.flow_from_directory(\n",
        "    test_dir,\n",
        "    target_size=image_size,\n",
        "    batch_size=batch_size,\n",
        "    color_mode='rgb',\n",
        "    class_mode='categorical'\n",
        ")\n"
      ]
    },
    {
      "cell_type": "code",
      "execution_count": null,
      "metadata": {
        "colab": {
          "base_uri": "https://localhost:8080/"
        },
        "id": "RTTBXokNEEy8",
        "outputId": "d0692642-0d65-41b6-d603-7313c4cc5676"
      },
      "outputs": [
        {
          "name": "stdout",
          "output_type": "stream",
          "text": [
            "Epoch 1/10\n",
            "534/534 [==============================] - 768s 1s/step - loss: 0.8537 - accuracy: 0.7790 - top2_acc: 0.8591 - top3_acc: 0.8919 - top4_acc: 0.9167 - top5_acc: 0.9321 - val_loss: 0.6864 - val_accuracy: 0.8125 - val_top2_acc: 0.8653 - val_top3_acc: 0.9252 - val_top4_acc: 0.9569 - val_top5_acc: 0.9798\n",
            "Epoch 2/10\n",
            "534/534 [==============================] - 18s 33ms/step - loss: 0.0626 - accuracy: 0.9911 - top2_acc: 0.9981 - top3_acc: 0.9986 - top4_acc: 0.9991 - top5_acc: 0.9995 - val_loss: 0.9016 - val_accuracy: 0.8415 - val_top2_acc: 0.8741 - val_top3_acc: 0.9085 - val_top4_acc: 0.9261 - val_top5_acc: 0.9296\n",
            "Epoch 3/10\n",
            "534/534 [==============================] - 19s 36ms/step - loss: 0.0277 - accuracy: 0.9958 - top2_acc: 0.9995 - top3_acc: 0.9995 - top4_acc: 0.9995 - top5_acc: 0.9995 - val_loss: 0.1371 - val_accuracy: 0.9525 - val_top2_acc: 0.9886 - val_top3_acc: 0.9991 - val_top4_acc: 1.0000 - val_top5_acc: 1.0000\n",
            "Epoch 4/10\n",
            "534/534 [==============================] - 18s 34ms/step - loss: 0.0117 - accuracy: 0.9986 - top2_acc: 0.9995 - top3_acc: 1.0000 - top4_acc: 1.0000 - top5_acc: 1.0000 - val_loss: 0.0029 - val_accuracy: 0.9991 - val_top2_acc: 1.0000 - val_top3_acc: 1.0000 - val_top4_acc: 1.0000 - val_top5_acc: 1.0000\n",
            "Epoch 5/10\n",
            "534/534 [==============================] - 18s 34ms/step - loss: 0.0053 - accuracy: 1.0000 - top2_acc: 1.0000 - top3_acc: 1.0000 - top4_acc: 1.0000 - top5_acc: 1.0000 - val_loss: 0.0035 - val_accuracy: 0.9991 - val_top2_acc: 1.0000 - val_top3_acc: 1.0000 - val_top4_acc: 1.0000 - val_top5_acc: 1.0000\n",
            "Epoch 6/10\n",
            "534/534 [==============================] - 19s 35ms/step - loss: 0.0055 - accuracy: 1.0000 - top2_acc: 1.0000 - top3_acc: 1.0000 - top4_acc: 1.0000 - top5_acc: 1.0000 - val_loss: 1.4896e-04 - val_accuracy: 1.0000 - val_top2_acc: 1.0000 - val_top3_acc: 1.0000 - val_top4_acc: 1.0000 - val_top5_acc: 1.0000\n",
            "Epoch 7/10\n",
            "534/534 [==============================] - 18s 34ms/step - loss: 0.0092 - accuracy: 0.9991 - top2_acc: 0.9991 - top3_acc: 0.9991 - top4_acc: 0.9991 - top5_acc: 0.9991 - val_loss: 0.0273 - val_accuracy: 0.9991 - val_top2_acc: 1.0000 - val_top3_acc: 1.0000 - val_top4_acc: 1.0000 - val_top5_acc: 1.0000\n",
            "Epoch 8/10\n",
            "534/534 [==============================] - 19s 35ms/step - loss: 0.0060 - accuracy: 0.9986 - top2_acc: 1.0000 - top3_acc: 1.0000 - top4_acc: 1.0000 - top5_acc: 1.0000 - val_loss: 0.0027 - val_accuracy: 0.9991 - val_top2_acc: 1.0000 - val_top3_acc: 1.0000 - val_top4_acc: 1.0000 - val_top5_acc: 1.0000\n",
            "Epoch 9/10\n",
            "534/534 [==============================] - 18s 33ms/step - loss: 0.0087 - accuracy: 0.9972 - top2_acc: 0.9995 - top3_acc: 1.0000 - top4_acc: 1.0000 - top5_acc: 1.0000 - val_loss: 1.6621e-05 - val_accuracy: 1.0000 - val_top2_acc: 1.0000 - val_top3_acc: 1.0000 - val_top4_acc: 1.0000 - val_top5_acc: 1.0000\n",
            "Epoch 10/10\n",
            "534/534 [==============================] - 18s 34ms/step - loss: 0.0011 - accuracy: 0.9995 - top2_acc: 1.0000 - top3_acc: 1.0000 - top4_acc: 1.0000 - top5_acc: 1.0000 - val_loss: 3.0300e-05 - val_accuracy: 1.0000 - val_top2_acc: 1.0000 - val_top3_acc: 1.0000 - val_top4_acc: 1.0000 - val_top5_acc: 1.0000\n"
          ]
        }
      ],
      "source": [
        "history = model.fit(\n",
        "    train_generator,\n",
        "    steps_per_epoch=train_generator.samples // batch_size,\n",
        "    epochs=10,\n",
        "    validation_data=val_generator,\n",
        "    validation_steps=val_generator.samples // batch_size,\n",
        "    workers=0,\n",
        "    max_queue_size=0\n",
        ")\n"
      ]
    },
    {
      "cell_type": "code",
      "execution_count": null,
      "metadata": {
        "id": "TOi9PmamEO2i"
      },
      "outputs": [],
      "source": [
        "# evaluation_results = model.evaluate(test_generator, steps=test_generator.num_samples // batch_size)\n",
        "\n",
        "# # Unpack the evaluation results\n",
        "# test_loss, test_acc, top2_acc, top3_acc, top4_acc, top5_acc = evaluation_results\n",
        "\n",
        "# print(f'Test loss: {test_loss}')\n",
        "# print(f'Test accuracy: {test_acc}')\n",
        "# print(f'Top-2 accuracy: {top2_acc}')\n",
        "# print(f'Top-3 accuracy: {top3_acc}')\n",
        "# print(f'Top-4 accuracy: {top4_acc}')\n",
        "# print(f'Top-5 accuracy: {top5_acc}')"
      ]
    },
    {
      "cell_type": "code",
      "execution_count": null,
      "metadata": {
        "id": "vAupQ_xjER4e"
      },
      "outputs": [],
      "source": [
        "model = models.Sequential()\n",
        "model.add(thermalModel)\n",
        "model.add(layers.MaxPooling2D((2, 2)))\n",
        "model.add(layers.BatchNormalization())\n",
        "model.add(layers.Flatten())\n",
        "model.add(layers.Dense(16, activation='softmax'))"
      ]
    },
    {
      "cell_type": "code",
      "execution_count": null,
      "metadata": {
        "colab": {
          "base_uri": "https://localhost:8080/"
        },
        "id": "Q6NqBdXCMdZI",
        "outputId": "3268ba9e-3fe0-4f9c-94f0-c471c1229ee7"
      },
      "outputs": [
        {
          "name": "stdout",
          "output_type": "stream",
          "text": [
            "Batch X shape: (4, 72, 96, 3)\n",
            "Batch Y shape: (4, 16)\n"
          ]
        }
      ],
      "source": [
        "# Verify the output of the data generator\n",
        "batch_x, batch_y = next(iter(train_generator))\n",
        "\n",
        "print(f'Batch X shape: {batch_x.shape}')\n",
        "print(f'Batch Y shape: {batch_y.shape}')"
      ]
    },
    {
      "cell_type": "code",
      "execution_count": null,
      "metadata": {
        "id": "T1h2q6n5MdVc"
      },
      "outputs": [],
      "source": [
        "model.compile(loss='categorical_crossentropy',\n",
        "              optimizer=optimizers.RMSprop(learning_rate=1e-4),\n",
        "              metrics=['accuracy',top2_acc, top3_acc, top4_acc, top5_acc],\n",
        "              run_eagerly=True)"
      ]
    },
    {
      "cell_type": "code",
      "execution_count": null,
      "metadata": {
        "colab": {
          "base_uri": "https://localhost:8080/"
        },
        "id": "6UgnyA4VMdRe",
        "outputId": "277b31c6-17b5-4ced-edfe-89eb69d33cb3"
      },
      "outputs": [
        {
          "name": "stdout",
          "output_type": "stream",
          "text": [
            "Epoch 1/3\n"
          ]
        },
        {
          "name": "stderr",
          "output_type": "stream",
          "text": [
            "WARNING:tensorflow:5 out of the last 5 calls to <function _BaseOptimizer._update_step_xla at 0x7915c80e88b0> triggered tf.function retracing. Tracing is expensive and the excessive number of tracings could be due to (1) creating @tf.function repeatedly in a loop, (2) passing tensors with different shapes, (3) passing Python objects instead of tensors. For (1), please define your @tf.function outside of the loop. For (2), @tf.function has reduce_retracing=True option that can avoid unnecessary retracing. For (3), please refer to https://www.tensorflow.org/guide/function#controlling_retracing and https://www.tensorflow.org/api_docs/python/tf/function for  more details.\n",
            "WARNING:tensorflow:6 out of the last 6 calls to <function _BaseOptimizer._update_step_xla at 0x7915c80e88b0> triggered tf.function retracing. Tracing is expensive and the excessive number of tracings could be due to (1) creating @tf.function repeatedly in a loop, (2) passing tensors with different shapes, (3) passing Python objects instead of tensors. For (1), please define your @tf.function outside of the loop. For (2), @tf.function has reduce_retracing=True option that can avoid unnecessary retracing. For (3), please refer to https://www.tensorflow.org/guide/function#controlling_retracing and https://www.tensorflow.org/api_docs/python/tf/function for  more details.\n"
          ]
        },
        {
          "name": "stdout",
          "output_type": "stream",
          "text": [
            "534/534 [==============================] - 61s 109ms/step - loss: 0.1548 - accuracy: 0.9757 - top2_acc: 0.9831 - top3_acc: 0.9874 - top4_acc: 0.9897 - top5_acc: 0.9925 - val_loss: 5.7095e-04 - val_accuracy: 1.0000 - val_top2_acc: 1.0000 - val_top3_acc: 1.0000 - val_top4_acc: 1.0000 - val_top5_acc: 1.0000\n",
            "Epoch 2/3\n",
            "534/534 [==============================] - 57s 106ms/step - loss: 0.0094 - accuracy: 0.9986 - top2_acc: 0.9995 - top3_acc: 0.9995 - top4_acc: 0.9995 - top5_acc: 1.0000 - val_loss: 4.1984e-05 - val_accuracy: 1.0000 - val_top2_acc: 1.0000 - val_top3_acc: 1.0000 - val_top4_acc: 1.0000 - val_top5_acc: 1.0000\n",
            "Epoch 3/3\n",
            "534/534 [==============================] - 58s 108ms/step - loss: 0.0069 - accuracy: 0.9986 - top2_acc: 1.0000 - top3_acc: 1.0000 - top4_acc: 1.0000 - top5_acc: 1.0000 - val_loss: 9.3158e-06 - val_accuracy: 1.0000 - val_top2_acc: 1.0000 - val_top3_acc: 1.0000 - val_top4_acc: 1.0000 - val_top5_acc: 1.0000\n"
          ]
        }
      ],
      "source": [
        "history = model.fit(\n",
        "    train_generator,\n",
        "    steps_per_epoch=len(train_generator),\n",
        "    epochs=3,\n",
        "    validation_data=val_generator,\n",
        "    validation_steps=len(val_generator),\n",
        "    workers=0,\n",
        "    max_queue_size=0\n",
        ")"
      ]
    },
    {
      "cell_type": "code",
      "execution_count": null,
      "metadata": {
        "colab": {
          "base_uri": "https://localhost:8080/"
        },
        "id": "dV6j2-KgMlR-",
        "outputId": "ad325d33-f58d-4e8f-ea50-283ad5944d1c"
      },
      "outputs": [
        {
          "name": "stdout",
          "output_type": "stream",
          "text": [
            "Found 1139 images belonging to 16 classes.\n",
            "16/16 [==============================] - 258s 17s/step - loss: 9.3678e-06 - accuracy: 1.0000 - top2_acc: 1.0000 - top3_acc: 1.0000 - top4_acc: 1.0000 - top5_acc: 1.0000\n",
            "test acc: 1.0\n",
            "Testing time: 281.04308128356934\n",
            "Recognition rate top2:  1.0\n",
            "Recognition rate top3:  1.0\n",
            "Recognition rate top3:  1.0\n",
            "Recognition rate top3:  1.0\n"
          ]
        }
      ],
      "source": [
        "#Test stage\n",
        "test_generator = val_test_datagen.flow_from_directory(\n",
        "        test_dir,\n",
        "        target_size=(72, 96),\n",
        "        batch_size=74,\n",
        "        color_mode='rgb',\n",
        "        class_mode='categorical')\n",
        "start_time = time.time()\n",
        "evaluation_results = model.evaluate(test_generator, steps=16, workers=0, max_queue_size=0)\n",
        "# test_loss, test_acc, test_top2_acc, test_top3_acc = model.evaluate_generator(test_generator, steps=16, workers=0, max_queue_size=0)\n",
        "end_time = time.time()\n",
        "testing_time = end_time - start_time\n",
        "\n",
        "# Unpack and print evaluation results\n",
        "test_loss, test_acc, test_top2_acc, test_top3_acc, test_top4_acc, test_top5_acc = evaluation_results\n",
        "\n",
        "print('test acc:', test_acc)\n",
        "print('Testing time:', testing_time)\n",
        "print('Recognition rate top2: ', test_top2_acc)\n",
        "print('Recognition rate top3: ', test_top3_acc)\n",
        "print('Recognition rate top3: ', test_top4_acc)\n",
        "print('Recognition rate top3: ', test_top5_acc)"
      ]
    },
    {
      "cell_type": "code",
      "execution_count": null,
      "metadata": {
        "colab": {
          "base_uri": "https://localhost:8080/"
        },
        "id": "L_ixYEuxMlPb",
        "outputId": "2ff24724-6011-42a5-9c47-ec36bc4ef39c"
      },
      "outputs": [
        {
          "data": {
            "text/plain": [
              "0.23736746730031194"
            ]
          },
          "execution_count": 24,
          "metadata": {},
          "output_type": "execute_result"
        }
      ],
      "source": [
        "#Processing time\n",
        "testing_time / 1184"
      ]
    },
    {
      "cell_type": "code",
      "execution_count": null,
      "metadata": {
        "colab": {
          "base_uri": "https://localhost:8080/"
        },
        "id": "PEnrQ4QpMlNH",
        "outputId": "bc10276d-5c6e-4640-a6fc-e748c395bce8"
      },
      "outputs": [
        {
          "name": "stderr",
          "output_type": "stream",
          "text": [
            "/usr/local/lib/python3.10/dist-packages/keras/src/engine/training.py:3103: UserWarning: You are saving your model as an HDF5 file via `model.save()`. This file format is considered legacy. We recommend using instead the native Keras format, e.g. `model.save('my_model.keras')`.\n",
            "  saving_api.save_model(\n"
          ]
        }
      ],
      "source": [
        "model.save('thermal_face_recognition_vgg16.h5')"
      ]
    },
    {
      "cell_type": "code",
      "execution_count": null,
      "metadata": {
        "id": "dFkzbl4LMlKw"
      },
      "outputs": [],
      "source": [
        "#Test the model with the TV dataset"
      ]
    },
    {
      "cell_type": "code",
      "execution_count": null,
      "metadata": {
        "colab": {
          "base_uri": "https://localhost:8080/"
        },
        "id": "rccHluMicEsZ",
        "outputId": "f222a165-933d-4f3a-9c5b-56b31ac4b4fd"
      },
      "outputs": [
        {
          "name": "stdout",
          "output_type": "stream",
          "text": [
            "Drive already mounted at /content/drive; to attempt to forcibly remount, call drive.mount(\"/content/drive\", force_remount=True).\n"
          ]
        }
      ],
      "source": [
        "from google.colab import drive\n",
        "drive.mount('/content/drive')"
      ]
    },
    {
      "cell_type": "code",
      "execution_count": null,
      "metadata": {
        "colab": {
          "base_uri": "https://localhost:8080/"
        },
        "id": "8YojP-__cYQ_",
        "outputId": "33ec8d02-1f6c-430a-c675-77f45fbe4af3"
      },
      "outputs": [
        {
          "name": "stdout",
          "output_type": "stream",
          "text": [
            "['.config', 'drive', 'sample_data']\n"
          ]
        }
      ],
      "source": [
        "# List directories in /content\n",
        "directories = [d for d in os.listdir('/content') if os.path.isdir(os.path.join('/content', d))]\n",
        "print(directories)"
      ]
    },
    {
      "cell_type": "code",
      "execution_count": null,
      "metadata": {
        "id": "YR6bs4CKbtlm"
      },
      "outputs": [],
      "source": [
        "shared_dir = '/content/drive/MyDrive/normalized/validate/thermal'"
      ]
    },
    {
      "cell_type": "code",
      "execution_count": null,
      "metadata": {
        "colab": {
          "base_uri": "https://localhost:8080/"
        },
        "id": "95voTDMUbzeG",
        "outputId": "3ab4ee31-8056-4243-f6fe-4e5424a05a9d"
      },
      "outputs": [
        {
          "data": {
            "text/plain": [
              "['class_4',\n",
              " 'class_6',\n",
              " 'class_9',\n",
              " 'class_12',\n",
              " 'class_2',\n",
              " 'class_7',\n",
              " 'class_13',\n",
              " 'class_16',\n",
              " 'class_10',\n",
              " 'class_11',\n",
              " 'class_8',\n",
              " 'class_3',\n",
              " 'class_14',\n",
              " 'class_5',\n",
              " 'class_15',\n",
              " 'class_1']"
            ]
          },
          "execution_count": 30,
          "metadata": {},
          "output_type": "execute_result"
        }
      ],
      "source": [
        "# List the contents of the shared drive\n",
        "os.listdir(shared_dir)"
      ]
    },
    {
      "cell_type": "code",
      "execution_count": null,
      "metadata": {
        "id": "OhGRhuhNMlH_"
      },
      "outputs": [],
      "source": [
        "#Path where my dataset is stored\n",
        "base_dir2 = '/content/drive/MyDrive/normalized/validate/thermal'\n",
        "base_dir3 = '/content/drive/MyDrive/normalized/test/thermal'\n",
        "base_dir4 = '/content/drive/MyDrive/normalized/train/thermal'\n",
        "# Directories for test splits\n",
        "test_dir1 = os.path.join(base_dir2)\n",
        "test_dir2 = os.path.join(base_dir3)\n",
        "test_dir3 = os.path.join(base_dir4)"
      ]
    },
    {
      "cell_type": "code",
      "execution_count": null,
      "metadata": {
        "colab": {
          "base_uri": "https://localhost:8080/"
        },
        "id": "T9e5Ti7FgbJ-",
        "outputId": "6c23d491-21d3-4a7f-eb7f-9f1ef318b9a1"
      },
      "outputs": [
        {
          "data": {
            "text/plain": [
              "['class_4',\n",
              " 'class_6',\n",
              " 'class_9',\n",
              " 'class_12',\n",
              " 'class_2',\n",
              " 'class_7',\n",
              " 'class_13',\n",
              " 'class_16',\n",
              " 'class_10',\n",
              " 'class_11',\n",
              " 'class_8',\n",
              " 'class_3',\n",
              " 'class_14',\n",
              " 'class_5',\n",
              " 'class_15',\n",
              " 'class_1']"
            ]
          },
          "execution_count": 32,
          "metadata": {},
          "output_type": "execute_result"
        }
      ],
      "source": [
        "os.listdir(base_dir2)"
      ]
    },
    {
      "cell_type": "code",
      "execution_count": null,
      "metadata": {
        "colab": {
          "base_uri": "https://localhost:8080/"
        },
        "id": "jjf0o9bjggbG",
        "outputId": "2963a9d5-b8c9-488f-dafc-c466d0e0ea2c"
      },
      "outputs": [
        {
          "data": {
            "text/plain": [
              "['class_10',\n",
              " 'class_14',\n",
              " 'class_1',\n",
              " 'class_13',\n",
              " 'class_3',\n",
              " 'class_16',\n",
              " 'class_7',\n",
              " 'class_11',\n",
              " 'class_5',\n",
              " 'class_6',\n",
              " 'class_12',\n",
              " 'class_4',\n",
              " 'class_2',\n",
              " 'class_15',\n",
              " 'class_8',\n",
              " 'class_9']"
            ]
          },
          "execution_count": 33,
          "metadata": {},
          "output_type": "execute_result"
        }
      ],
      "source": [
        "os.listdir(base_dir3)"
      ]
    },
    {
      "cell_type": "code",
      "execution_count": null,
      "metadata": {
        "colab": {
          "base_uri": "https://localhost:8080/"
        },
        "id": "0GeMfEgSMlE-",
        "outputId": "88c91d75-0b28-49fa-b115-95e665ef75b1"
      },
      "outputs": [
        {
          "name": "stdout",
          "output_type": "stream",
          "text": [
            "Found 79 images belonging to 16 classes.\n"
          ]
        }
      ],
      "source": [
        "test_datagen2 = ImageDataGenerator(rescale=1./255)\n",
        "\n",
        "test_generator2 = test_datagen2.flow_from_directory(\n",
        "    test_dir1,\n",
        "    target_size=(72, 96),\n",
        "    batch_size=148,\n",
        "    color_mode='rgb',\n",
        "    class_mode='categorical')"
      ]
    },
    {
      "cell_type": "code",
      "execution_count": null,
      "metadata": {
        "id": "CYharF7PekyW"
      },
      "outputs": [],
      "source": [
        "# test_datagen3 = ImageDataGenerator(rescale=1./255)\n",
        "\n",
        "# test_generator3 = test_datagen3.flow_from_directory(\n",
        "#     test_dir2,\n",
        "#     target_size=(72, 96),\n",
        "#     batch_size=148,\n",
        "#     color_mode='rgb',\n",
        "#     class_mode='categorical')"
      ]
    },
    {
      "cell_type": "code",
      "execution_count": null,
      "metadata": {
        "colab": {
          "base_uri": "https://localhost:8080/"
        },
        "id": "7yCNWI3Ye0PO",
        "outputId": "72e57dc2-3a10-4770-edc1-0d1c5223f9f0"
      },
      "outputs": [
        {
          "name": "stdout",
          "output_type": "stream",
          "text": [
            "Found 72 images belonging to 16 classes.\n"
          ]
        }
      ],
      "source": [
        "test_datagen4 = ImageDataGenerator(rescale=1./255)\n",
        "\n",
        "test_generator4 = test_datagen4.flow_from_directory(\n",
        "    test_dir3,\n",
        "    target_size=(72, 96),\n",
        "    batch_size=148,\n",
        "    color_mode='rgb',\n",
        "    class_mode='categorical')"
      ]
    },
    {
      "cell_type": "code",
      "execution_count": null,
      "metadata": {
        "colab": {
          "base_uri": "https://localhost:8080/"
        },
        "id": "Il2f7-2oMlAO",
        "outputId": "63d0cf2b-a3db-4a2d-ea92-ac2ae4f6670b"
      },
      "outputs": [
        {
          "name": "stdout",
          "output_type": "stream",
          "text": [
            "\r 1/16 [>.............................] - ETA: 52s - loss: 7.0761 - accuracy: 0.0127 - top2_acc: 0.0886 - top3_acc: 0.1392 - top4_acc: 0.2405 - top5_acc: 0.2911"
          ]
        },
        {
          "name": "stderr",
          "output_type": "stream",
          "text": [
            "WARNING:tensorflow:Your input ran out of data; interrupting training. Make sure that your dataset or generator can generate at least `steps_per_epoch * epochs` batches (in this case, 16 batches). You may need to use the repeat() function when building your dataset.\n"
          ]
        },
        {
          "name": "stdout",
          "output_type": "stream",
          "text": [
            "\b\b\b\b\b\b\b\b\b\b\b\b\b\b\b\b\b\b\b\b\b\b\b\b\b\b\b\b\b\b\b\b\b\b\b\b\b\b\b\b\b\b\b\b\b\b\b\b\b\b\b\b\b\b\b\b\b\b\b\b\b\b\b\b\b\b\b\b\b\b\b\b\b\b\b\b\b\b\b\b\b\b\b\b\b\b\b\b\b\b\b\b\b\b\b\b\b\b\b\b\b\b\b\b\b\b\b\b\b\b\b\b\b\b\b\b\b\b\b\b\b\b\b\b\b\b\b\b\b\b\b\b\b\b\b\b\b\b\b\b\b\b\b\b\b\b\b\b\b\b\b\b\b\b\b\b\b\b\b\r16/16 [==============================] - 3s 616us/step - loss: 7.0761 - accuracy: 0.0127 - top2_acc: 0.0886 - top3_acc: 0.1392 - top4_acc: 0.2405 - top5_acc: 0.2911\n",
            "Recognition rate top1:  0.012658228166401386\n",
            "Recognition rate top2:  0.08860759437084198\n",
            "Recognition rate top3:  0.13924050331115723\n",
            "Recognition rate top4:  0.2405063360929489\n",
            "Recognition rate top5:  0.29113924503326416\n"
          ]
        }
      ],
      "source": [
        "test_loss, test_acc, test_top2_acc, test_top3_acc, test_top4_acc, test_top5_acc = model.evaluate(test_generator2, steps=16, workers=0, max_queue_size=0)\n",
        "print('Recognition rate top1: ', test_acc)\n",
        "print('Recognition rate top2: ', test_top2_acc)\n",
        "print('Recognition rate top3: ', test_top3_acc)\n",
        "print('Recognition rate top4: ', test_top4_acc)\n",
        "print('Recognition rate top5: ', test_top5_acc)"
      ]
    },
    {
      "cell_type": "code",
      "execution_count": null,
      "metadata": {
        "id": "kDp21w3YeNZk"
      },
      "outputs": [],
      "source": [
        "# test_loss, test_acc, test_top2_acc, test_top3_acc, test_top4_acc, test_top5_acc = model.evaluate(test_generator3, steps=16, workers=0, max_queue_size=0)\n",
        "# print('Recognition rate top1: ', test_acc)\n",
        "# print('Recognition rate top2: ', test_top2_acc)\n",
        "# print('Recognition rate top3: ', test_top3_acc)\n",
        "# print('Recognition rate top4: ', test_top4_acc)\n",
        "# print('Recognition rate top5: ', test_top5_acc)"
      ]
    },
    {
      "cell_type": "code",
      "execution_count": null,
      "metadata": {
        "colab": {
          "base_uri": "https://localhost:8080/"
        },
        "id": "NhdQylZ-fO5z",
        "outputId": "3bae9c10-7fb0-4da7-f499-971bf85c5d36"
      },
      "outputs": [
        {
          "name": "stdout",
          "output_type": "stream",
          "text": [
            "\r 1/16 [>.............................] - ETA: 48s - loss: 6.7227 - accuracy: 0.0694 - top2_acc: 0.1944 - top3_acc: 0.3750 - top4_acc: 0.3889 - top5_acc: 0.4028"
          ]
        },
        {
          "name": "stderr",
          "output_type": "stream",
          "text": [
            "WARNING:tensorflow:Your input ran out of data; interrupting training. Make sure that your dataset or generator can generate at least `steps_per_epoch * epochs` batches (in this case, 16 batches). You may need to use the repeat() function when building your dataset.\n"
          ]
        },
        {
          "name": "stdout",
          "output_type": "stream",
          "text": [
            "\b\b\b\b\b\b\b\b\b\b\b\b\b\b\b\b\b\b\b\b\b\b\b\b\b\b\b\b\b\b\b\b\b\b\b\b\b\b\b\b\b\b\b\b\b\b\b\b\b\b\b\b\b\b\b\b\b\b\b\b\b\b\b\b\b\b\b\b\b\b\b\b\b\b\b\b\b\b\b\b\b\b\b\b\b\b\b\b\b\b\b\b\b\b\b\b\b\b\b\b\b\b\b\b\b\b\b\b\b\b\b\b\b\b\b\b\b\b\b\b\b\b\b\b\b\b\b\b\b\b\b\b\b\b\b\b\b\b\b\b\b\b\b\b\b\b\b\b\b\b\b\b\b\b\b\b\b\b\b\r16/16 [==============================] - 3s 588us/step - loss: 6.7227 - accuracy: 0.0694 - top2_acc: 0.1944 - top3_acc: 0.3750 - top4_acc: 0.3889 - top5_acc: 0.4028\n",
            "Recognition rate top1:  0.0694444477558136\n",
            "Recognition rate top2:  0.1944444477558136\n",
            "Recognition rate top3:  0.375\n",
            "Recognition rate top4:  0.3888888955116272\n",
            "Recognition rate top5:  0.4027777910232544\n"
          ]
        }
      ],
      "source": [
        "test_loss, test_acc, test_top2_acc, test_top3_acc, test_top4_acc, test_top5_acc = model.evaluate(test_generator4, steps=16, workers=0, max_queue_size=0)\n",
        "print('Recognition rate top1: ', test_acc)\n",
        "print('Recognition rate top2: ', test_top2_acc)\n",
        "print('Recognition rate top3: ', test_top3_acc)\n",
        "print('Recognition rate top4: ', test_top4_acc)\n",
        "print('Recognition rate top5: ', test_top5_acc)"
      ]
    },
    {
      "cell_type": "markdown",
      "metadata": {
        "id": "IrhveRUdqfFC"
      },
      "source": [
        "# model improvement"
      ]
    },
    {
      "cell_type": "code",
      "execution_count": null,
      "metadata": {
        "id": "kjewT3u4qdAV"
      },
      "outputs": [],
      "source": [
        "# Define paths to your data directories\n",
        "dir_val = '/content/drive/MyDrive/normalized/validate/thermal'\n",
        "dir_test = '/content/drive/MyDrive/normalized/test/thermal'\n",
        "dir_train = '/content/drive/MyDrive/normalized/train/thermal'"
      ]
    },
    {
      "cell_type": "code",
      "execution_count": null,
      "metadata": {
        "colab": {
          "base_uri": "https://localhost:8080/"
        },
        "id": "uYDxFlLHsDSc",
        "outputId": "f8f527b9-a285-4b22-85ed-7b2bbf2d4946"
      },
      "outputs": [
        {
          "name": "stdout",
          "output_type": "stream",
          "text": [
            "Found 2136 images belonging to 16 classes.\n",
            "Found 1137 images belonging to 16 classes.\n",
            "Found 1139 images belonging to 16 classes.\n"
          ]
        }
      ],
      "source": [
        "# Create data generators with data augmentation for training data\n",
        "train_datagen = ImageDataGenerator(\n",
        "    rescale=1./255,\n",
        "    rotation_range=20,\n",
        "    width_shift_range=0.2,\n",
        "    height_shift_range=0.2,\n",
        "    shear_range=0.2,\n",
        "    zoom_range=0.2,\n",
        "    horizontal_flip=True,\n",
        "    fill_mode='nearest'\n",
        ")\n",
        "\n",
        "val_datagen = ImageDataGenerator(rescale=1./255)\n",
        "test_datagen = ImageDataGenerator(rescale=1./255)\n",
        "\n",
        "# Create data generators\n",
        "train_new_generator = train_datagen.flow_from_directory(\n",
        "    train_dir,\n",
        "    target_size=(72, 96),\n",
        "    batch_size=batch_size,\n",
        "    class_mode='categorical'\n",
        ")\n",
        "\n",
        "val_new_generator = val_datagen.flow_from_directory(\n",
        "    val_dir,\n",
        "    target_size=(72, 96),\n",
        "    batch_size=batch_size,\n",
        "    class_mode='categorical'\n",
        ")\n",
        "\n",
        "test_new_generator = test_datagen.flow_from_directory(\n",
        "    test_dir,\n",
        "    target_size=(72, 96),\n",
        "    batch_size=batch_size,\n",
        "    class_mode='categorical'\n",
        ")"
      ]
    },
    {
      "cell_type": "code",
      "execution_count": null,
      "metadata": {
        "id": "TDnjEHUhstl5"
      },
      "outputs": [],
      "source": [
        "from tensorflow.keras.models import load_model, Model\n",
        "from tensorflow.keras.optimizers import Adam"
      ]
    },
    {
      "cell_type": "code",
      "execution_count": null,
      "metadata": {
        "id": "7VusGN-9sM--"
      },
      "outputs": [],
      "source": [
        "# Load the saved model\n",
        "othermodel = load_model('/content/drive/MyDrive/thermal_face_recognition_vgg16.h5', custom_objects={'top2_acc': top2_acc, 'top3_acc': top3_acc, 'top4_acc': top4_acc, 'top5_acc': top5_acc})"
      ]
    },
    {
      "cell_type": "code",
      "execution_count": null,
      "metadata": {
        "id": "XA28dKlSsp8a"
      },
      "outputs": [],
      "source": [
        "# Unfreeze the top layers of the model\n",
        "for layer in othermodel.layers[-10:]:\n",
        "    layer.trainable = True"
      ]
    },
    {
      "cell_type": "code",
      "execution_count": null,
      "metadata": {
        "colab": {
          "base_uri": "https://localhost:8080/"
        },
        "id": "A3YYDWN0uKlD",
        "outputId": "8b02c895-c2e8-4bc5-9050-40450f80d654"
      },
      "outputs": [
        {
          "name": "stdout",
          "output_type": "stream",
          "text": [
            "Model: \"sequential_1\"\n",
            "_________________________________________________________________\n",
            " Layer (type)                Output Shape              Param #   \n",
            "=================================================================\n",
            " model (Functional)          (None, 2, 3, 512)         14714688  \n",
            "                                                                 \n",
            " max_pooling2d_1 (MaxPoolin  (None, 1, 1, 512)         0         \n",
            " g2D)                                                            \n",
            "                                                                 \n",
            " batch_normalization_1 (Bat  (None, 1, 1, 512)         2048      \n",
            " chNormalization)                                                \n",
            "                                                                 \n",
            " flatten_1 (Flatten)         (None, 512)               0         \n",
            "                                                                 \n",
            " dense_1 (Dense)             (None, 16)                8208      \n",
            "                                                                 \n",
            "=================================================================\n",
            "Total params: 14724944 (56.17 MB)\n",
            "Trainable params: 14723920 (56.17 MB)\n",
            "Non-trainable params: 1024 (4.00 KB)\n",
            "_________________________________________________________________\n"
          ]
        }
      ],
      "source": [
        "othermodel.summary()"
      ]
    },
    {
      "cell_type": "code",
      "execution_count": null,
      "metadata": {
        "colab": {
          "base_uri": "https://localhost:8080/"
        },
        "id": "mhLeqJVhswFY",
        "outputId": "5eac091d-dbfe-4f45-b6d1-468779a088b4"
      },
      "outputs": [
        {
          "name": "stdout",
          "output_type": "stream",
          "text": [
            "Epoch 1/3\n",
            "534/534 [==============================] - 28s 45ms/step - loss: 0.3854 - accuracy: 0.8876 - top2_acc: 0.9457 - top3_acc: 0.9625 - top4_acc: 0.9733 - top5_acc: 0.9775 - val_loss: 4.1923e-05 - val_accuracy: 1.0000 - val_top2_acc: 1.0000 - val_top3_acc: 1.0000 - val_top4_acc: 1.0000 - val_top5_acc: 1.0000\n",
            "Epoch 2/3\n",
            "534/534 [==============================] - 23s 43ms/step - loss: 0.2346 - accuracy: 0.9443 - top2_acc: 0.9696 - top3_acc: 0.9780 - top4_acc: 0.9836 - top5_acc: 0.9864 - val_loss: 6.4183e-06 - val_accuracy: 1.0000 - val_top2_acc: 1.0000 - val_top3_acc: 1.0000 - val_top4_acc: 1.0000 - val_top5_acc: 1.0000\n",
            "Epoch 3/3\n",
            "534/534 [==============================] - 24s 45ms/step - loss: 0.2068 - accuracy: 0.9396 - top2_acc: 0.9719 - top3_acc: 0.9813 - top4_acc: 0.9878 - top5_acc: 0.9911 - val_loss: 1.5676e-04 - val_accuracy: 1.0000 - val_top2_acc: 1.0000 - val_top3_acc: 1.0000 - val_top4_acc: 1.0000 - val_top5_acc: 1.0000\n"
          ]
        }
      ],
      "source": [
        "# Compile the model with a lower learning rate\n",
        "othermodel.compile(optimizer=Adam(learning_rate=1e-5), loss='categorical_crossentropy', metrics=['accuracy', top2_acc, top3_acc, top4_acc, top5_acc])\n",
        "# Fine-tune the model\n",
        "history = othermodel.fit(\n",
        "    train_new_generator,\n",
        "    steps_per_epoch=len(train_new_generator),\n",
        "    epochs=3,\n",
        "    validation_data=val_new_generator,\n",
        "    validation_steps=len(val_new_generator)\n",
        ")"
      ]
    },
    {
      "cell_type": "code",
      "execution_count": null,
      "metadata": {
        "colab": {
          "base_uri": "https://localhost:8080/"
        },
        "id": "8T1S4lIbtZRk",
        "outputId": "8572720a-19c1-4b62-e5aa-25b5cc787eac"
      },
      "outputs": [
        {
          "name": "stdout",
          "output_type": "stream",
          "text": [
            "285/285 [==============================] - 9s 32ms/step - loss: 1.8197e-04 - accuracy: 1.0000 - top2_acc: 1.0000 - top3_acc: 1.0000 - top4_acc: 1.0000 - top5_acc: 1.0000\n",
            "[0.00018197059398517013, 1.0, 1.0, 1.0, 1.0, 1.0]\n",
            "Test loss: 0.00018197059398517013\n",
            "Test accuracy: 1.0\n",
            "Top-2 accuracy: 1.0\n",
            "Top-3 accuracy: 1.0\n",
            "Top-4 accuracy: 1.0\n",
            "Top-5 accuracy: 1.0\n"
          ]
        }
      ],
      "source": [
        "# Evaluate the model on the test set\n",
        "evaluation_results = othermodel.evaluate(test_generator, steps=len(test_generator))\n",
        "print(evaluation_results)\n",
        "\n",
        "# Unpack and print evaluation results\n",
        "test_loss, test_acc, test_top2_acc, test_top3_acc, test_top4_acc, test_top5_acc = evaluation_results\n",
        "\n",
        "print(f'Test loss: {test_loss}')\n",
        "print(f'Test accuracy: {test_acc}')\n",
        "print(f'Top-2 accuracy: {test_top2_acc}')\n",
        "print(f'Top-3 accuracy: {test_top3_acc}')\n",
        "print(f'Top-4 accuracy: {test_top4_acc}')\n",
        "print(f'Top-5 accuracy: {test_top5_acc}')"
      ]
    },
    {
      "cell_type": "code",
      "execution_count": null,
      "metadata": {
        "colab": {
          "base_uri": "https://localhost:8080/"
        },
        "id": "E0BosVbnxJiL",
        "outputId": "dbdfc546-a74c-45a9-a8a4-b903ba302b59"
      },
      "outputs": [
        {
          "name": "stderr",
          "output_type": "stream",
          "text": [
            "/usr/local/lib/python3.10/dist-packages/keras/src/engine/training.py:3103: UserWarning: You are saving your model as an HDF5 file via `model.save()`. This file format is considered legacy. We recommend using instead the native Keras format, e.g. `model.save('my_model.keras')`.\n",
            "  saving_api.save_model(\n"
          ]
        }
      ],
      "source": [
        "# Save the model\n",
        "othermodel.save('path_to_save_model/finetuned_model.h5')"
      ]
    },
    {
      "cell_type": "markdown",
      "metadata": {
        "id": "jJFTk-n0w3EH"
      },
      "source": [
        "more improvements:\n",
        "\n",
        "- Cross-Validation: Use cross-validation to check model consistency across different data splits.\n",
        "\n",
        "- Confusion Matrix: Generate a confusion matrix to identify specific misclassifications.\n",
        "\n",
        "- Regularization and Error Analysis: Use regularization techniques and manually inspect errors to understand and mitigate model shortcomings."
      ]
    },
    {
      "cell_type": "code",
      "execution_count": null,
      "metadata": {
        "id": "wt3RwpCNt1_s"
      },
      "outputs": [],
      "source": []
    }
  ],
  "metadata": {
    "accelerator": "GPU",
    "colab": {
      "gpuType": "T4",
      "provenance": []
    },
    "kernelspec": {
      "display_name": "Python 3",
      "name": "python3"
    },
    "language_info": {
      "name": "python"
    }
  },
  "nbformat": 4,
  "nbformat_minor": 0
}

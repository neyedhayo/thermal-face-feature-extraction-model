{
  "cells": [
    {
      "cell_type": "code",
      "execution_count": null,
      "metadata": {
        "colab": {
          "base_uri": "https://localhost:8080/"
        },
        "id": "M9TW5zw9eFJa",
        "outputId": "1188e170-815a-4304-fd7b-79397737c620"
      },
      "outputs": [
        {
          "name": "stdout",
          "output_type": "stream",
          "text": [
            "Mounted at /content/drive\n"
          ]
        }
      ],
      "source": [
        "from google.colab import drive\n",
        "drive.mount('/content/drive')"
      ]
    },
    {
      "cell_type": "code",
      "execution_count": null,
      "metadata": {
        "id": "KhrWrSyteh03"
      },
      "outputs": [],
      "source": [
        "import os\n",
        "import shutil"
      ]
    },
    {
      "cell_type": "code",
      "execution_count": null,
      "metadata": {
        "id": "jPwG-Cfve2I2"
      },
      "outputs": [],
      "source": [
        "# Define the base directories for train, test, and validation\n",
        "base_train_dir = '/content/drive/MyDrive/WORKS/FACIAL RECOGNITION RESEARCH]/data/normalized/train/thermal'\n",
        "base_test_dir = '/content/drive/MyDrive/WORKS/FACIAL RECOGNITION RESEARCH]/data/normalized/test/thermal'\n",
        "base_validate_dir = '/content/drive/MyDrive/WORKS/FACIAL RECOGNITION RESEARCH]/data/normalized/validate/thermal'"
      ]
    },
    {
      "cell_type": "code",
      "execution_count": null,
      "metadata": {
        "id": "byeF41weiXf1"
      },
      "outputs": [],
      "source": [
        "# Function to create directories and move files\n",
        "def sort_images(source_dir):\n",
        "    for filename in os.listdir(source_dir):\n",
        "        # Extract class ID from filename, assuming format 'ID-TD-E-N.jpg'\n",
        "        class_id = filename.split('-')[0]\n",
        "        class_dir = os.path.join(source_dir, f'class_{class_id}')\n",
        "\n",
        "        # Create directory for class ID if it does not exist\n",
        "        if not os.path.exists(class_dir):\n",
        "            os.mkdir(class_dir)\n",
        "\n",
        "        shutil.move(os.path.join(source_dir, filename), os.path.join(class_dir, filename))"
      ]
    },
    {
      "cell_type": "code",
      "execution_count": null,
      "metadata": {
        "colab": {
          "base_uri": "https://localhost:8080/"
        },
        "id": "ZBpDYsCMsFTw",
        "outputId": "bf8f550c-b8a1-4815-94a3-5762c330b10e"
      },
      "outputs": [
        {
          "name": "stdout",
          "output_type": "stream",
          "text": [
            "Images have been organized by class ID within their respective train and test directories.\n"
          ]
        }
      ],
      "source": [
        "sort_images(base_train_dir)\n",
        "sort_images(base_test_dir)\n",
        "sort_images(base_validate_dir)\n",
        "\n",
        "print(\"Images have been organized by class ID within their respective train and test directories.\")"
      ]
    },
    {
      "cell_type": "code",
      "execution_count": null,
      "metadata": {
        "id": "JEFrjSs1sGTd"
      },
      "outputs": [],
      "source": []
    }
  ],
  "metadata": {
    "colab": {
      "provenance": []
    },
    "kernelspec": {
      "display_name": "Python 3",
      "name": "python3"
    },
    "language_info": {
      "name": "python"
    }
  },
  "nbformat": 4,
  "nbformat_minor": 0
}

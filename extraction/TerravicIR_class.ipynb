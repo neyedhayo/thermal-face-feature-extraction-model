{
  "cells": [
    {
      "cell_type": "code",
      "execution_count": null,
      "metadata": {
        "colab": {
          "base_uri": "https://localhost:8080/"
        },
        "id": "YeDM3GfrMV3u",
        "outputId": "b05cb1f6-8356-4bbd-d351-a822369f6fd4"
      },
      "outputs": [
        {
          "name": "stdout",
          "output_type": "stream",
          "text": [
            "Mounted at /content/drive/\n"
          ]
        }
      ],
      "source": [
        "# prompt: mount\n",
        "\n",
        "from google.colab import drive\n",
        "drive.mount('/content/drive/')"
      ]
    },
    {
      "cell_type": "code",
      "execution_count": null,
      "metadata": {
        "id": "nKh2fdceNlL0"
      },
      "outputs": [],
      "source": [
        "import os\n",
        "import zipfile\n",
        "import shutil\n",
        "from sklearn.model_selection import train_test_split"
      ]
    },
    {
      "cell_type": "code",
      "execution_count": null,
      "metadata": {
        "id": "LUrwwisNQa1o"
      },
      "outputs": [],
      "source": [
        "def count_images(directory):\n",
        "    \"\"\" Function to count images in each subdirectory of a given directory \"\"\"\n",
        "    image_counts = {}\n",
        "    for subdir in os.listdir(directory):\n",
        "        subdir_path = os.path.join(directory, subdir)\n",
        "        if os.path.isdir(subdir_path):\n",
        "            # Count only jpg images\n",
        "            image_count = len([file for file in os.listdir(subdir_path) if file.endswith('.jpg')])\n",
        "            image_counts[subdir] = image_count\n",
        "    return image_counts"
      ]
    },
    {
      "cell_type": "code",
      "execution_count": null,
      "metadata": {
        "id": "l8ZNPPcpQyl2"
      },
      "outputs": [],
      "source": [
        "base_dir = 'data/ExtractedTerravicDatabase'\n",
        "\n",
        "# Directories\n",
        "train_dir = os.path.join(base_dir, 'train')\n",
        "val_dir = os.path.join(base_dir, 'val')\n",
        "test_dir = os.path.join(base_dir, 'test')\n",
        "\n",
        "# Get image counts\n",
        "train_counts = count_images(train_dir)\n",
        "val_counts = count_images(val_dir)\n",
        "test_counts = count_images(test_dir)\n"
      ]
    },
    {
      "cell_type": "code",
      "execution_count": null,
      "metadata": {
        "colab": {
          "base_uri": "https://localhost:8080/"
        },
        "id": "nK-fofdIQ9_Y",
        "outputId": "729bebc2-83b6-4649-867d-9959611362d1"
      },
      "outputs": [
        {
          "name": "stdout",
          "output_type": "stream",
          "text": [
            "Image counts in Training Directory:\n",
            "face01: 136 images\n",
            "face02: 372 images\n",
            "face03: 355 images\n",
            "face04: 292 images\n",
            "face07: 778 images\n",
            "face08: 514 images\n",
            "face09: 670 images\n",
            "face10: 169 images\n",
            "face11: 260 images\n",
            "face12: 1307 images\n",
            "face13: 850 images\n",
            "face14: 889 images\n",
            "face15: 675 images\n",
            "face16: 966 images\n",
            "face17: 1579 images\n",
            "face18: 1329 images\n",
            "\n",
            "Image counts in Validation Directory:\n",
            "face01: 45 images\n",
            "face02: 124 images\n",
            "face03: 118 images\n",
            "face04: 97 images\n",
            "face07: 259 images\n",
            "face08: 171 images\n",
            "face09: 223 images\n",
            "face10: 57 images\n",
            "face11: 87 images\n",
            "face12: 436 images\n",
            "face13: 283 images\n",
            "face14: 296 images\n",
            "face15: 225 images\n",
            "face16: 322 images\n",
            "face17: 526 images\n",
            "face18: 443 images\n",
            "\n",
            "Image counts in Testing Directory:\n",
            "face01: 46 images\n",
            "face02: 124 images\n",
            "face03: 119 images\n",
            "face04: 98 images\n",
            "face07: 260 images\n",
            "face08: 172 images\n",
            "face09: 224 images\n",
            "face10: 57 images\n",
            "face11: 87 images\n",
            "face12: 436 images\n",
            "face13: 284 images\n",
            "face14: 297 images\n",
            "face15: 225 images\n",
            "face16: 323 images\n",
            "face17: 527 images\n",
            "face18: 443 images\n"
          ]
        }
      ],
      "source": [
        "# Print results\n",
        "print(\"Image counts in Training Directory:\")\n",
        "for face, count in train_counts.items():\n",
        "    print(f\"{face}: {count} images\")\n",
        "\n",
        "print(\"\\nImage counts in Validation Directory:\")\n",
        "for face, count in val_counts.items():\n",
        "    print(f\"{face}: {count} images\")\n",
        "\n",
        "print(\"\\nImage counts in Testing Directory:\")\n",
        "for face, count in test_counts.items():\n",
        "    print(f\"{face}: {count} images\")"
      ]
    },
    {
      "cell_type": "code",
      "execution_count": null,
      "metadata": {
        "id": "U13zK1etMOY2"
      },
      "outputs": [],
      "source": [
        "# # Paths\n",
        "# base_zip_dir = 'data/Terravic Facial Infrared Database'\n",
        "# base_extract_dir = 'data/ExtractedTerravicDatabase'\n",
        "# train_dir = os.path.join(base_extract_dir, 'train')\n",
        "# val_dir = os.path.join(base_extract_dir, 'val')\n",
        "# test_dir = os.path.join(base_extract_dir, 'test')\n",
        "\n",
        "# # Create directories if they don't exist\n",
        "# os.makedirs(train_dir, exist_ok=True)\n",
        "# os.makedirs(val_dir, exist_ok=True)\n",
        "# os.makedirs(test_dir, exist_ok=True)\n",
        "\n",
        "# # Extract zip files\n",
        "# for zip_file in os.listdir(base_zip_dir):\n",
        "#     if zip_file.endswith('.zip'):\n",
        "#         with zipfile.ZipFile(os.path.join(base_zip_dir, zip_file), 'r') as zip_ref:\n",
        "#             person_name = os.path.splitext(zip_file)[0]\n",
        "#             zip_ref.extractall(os.path.join(base_extract_dir, person_name))\n",
        "\n",
        "# print(\"Extraction complete.\")\n"
      ]
    },
    {
      "cell_type": "code",
      "execution_count": null,
      "metadata": {
        "id": "LMth-K1SONcO"
      },
      "outputs": [],
      "source": [
        "# base_extract_dir = '/content/drive/MyDrive/WORKS/FACIAL RECOGNITION RESEARCH]/data/copy'\n",
        "# for person in os.listdir(base_extract_dir):\n",
        "#     person_dir = os.path.join(base_extract_dir, person)\n",
        "#     if os.path.isdir(person_dir):\n",
        "#         images = os.listdir(person_dir)\n",
        "#         print(f\"{person} contains {len(images)} images.\")"
      ]
    },
    {
      "cell_type": "code",
      "execution_count": null,
      "metadata": {
        "id": "qjty5jdNwTtl"
      },
      "outputs": [],
      "source": [
        "# # Define the source and destination directories\n",
        "# source_dir = 'data/ExtractedTerravicDatabase'\n",
        "# destination_dir = '/data/copy'\n",
        "\n",
        "# # Ensure the destination directory exists\n",
        "# os.makedirs(destination_dir, exist_ok=True)\n",
        "\n",
        "# # List of face classes to be copied\n",
        "# face_classes = ['face01', 'face02', 'face03', 'face04', 'face07', 'face08', 'face09', 'face10',\n",
        "#                 'face11', 'face12', 'face13', 'face14', 'face15', 'face16', 'face17', 'face18']\n",
        "\n",
        "# # Copy each face class directory\n",
        "# for face_class in face_classes:\n",
        "#     src_path = os.path.join(source_dir, face_class)\n",
        "#     dest_path = os.path.join(destination_dir, face_class)\n",
        "\n",
        "#     # Check if destination directory already exists to skip copying\n",
        "#     if os.path.exists(dest_path):\n",
        "#         print(f\"{face_class} already exists in the destination directory. Skipping...\")\n",
        "#         continue\n",
        "\n",
        "#     # Copy directory if it exists in the source\n",
        "#     if os.path.exists(src_path):\n",
        "#         shutil.copytree(src_path, dest_path, dirs_exist_ok=True)\n",
        "#         print(f\"Copied {face_class} successfully.\")\n",
        "#     else:\n",
        "#         print(f\"Directory {face_class} does not exist in the source directory.\")\n",
        "\n",
        "# print(\"All specified face classes have been copied or were already present.\")"
      ]
    },
    {
      "cell_type": "markdown",
      "metadata": {
        "id": "UOAT0uzSxtu4"
      },
      "source": [
        "# SPLITTING"
      ]
    },
    {
      "cell_type": "code",
      "execution_count": null,
      "metadata": {
        "id": "Mh8ZdMOlRAQv"
      },
      "outputs": [],
      "source": [
        "# # Base directory where the class directories are located\n",
        "# base_dir = '/content/drive/MyDrive/WORKS/FACIAL RECOGNITION RESEARCH]/data/ExtractedTerravicDatabase'\n",
        "# train_dir = os.path.join(base_dir, 'train')\n",
        "# val_dir = os.path.join(base_dir, 'val')\n",
        "# test_dir = os.path.join(base_dir, 'test')"
      ]
    },
    {
      "cell_type": "code",
      "execution_count": null,
      "metadata": {
        "id": "41LOjMQ0gIiU"
      },
      "outputs": [],
      "source": [
        "# # Ensure the base directories exist\n",
        "# os.makedirs(train_dir, exist_ok=True)\n",
        "# os.makedirs(val_dir, exist_ok=True)\n",
        "# os.makedirs(test_dir, exist_ok=True)"
      ]
    },
    {
      "cell_type": "code",
      "execution_count": null,
      "metadata": {
        "id": "D3_fyOtyvd0M"
      },
      "outputs": [],
      "source": [
        "# # Classes involved\n",
        "# classes = ['face01', 'face02', 'face03', 'face04', 'face07', 'face08', 'face09', 'face10', 'face11', 'face12', 'face13', 'face14', 'face15', 'face16', 'face17', 'face18']\n"
      ]
    },
    {
      "cell_type": "code",
      "execution_count": null,
      "metadata": {
        "id": "rDxyQmMUvlSu"
      },
      "outputs": [],
      "source": [
        "# # Process each class\n",
        "# for cls in classes:\n",
        "#     src_dir = os.path.join(base_dir, cls)\n",
        "\n",
        "#     # Destination directories for each class in train, val, test\n",
        "#     train_cls_dir = os.path.join(train_dir, cls)\n",
        "#     val_cls_dir = os.path.join(val_dir, cls)\n",
        "#     test_cls_dir = os.path.join(test_dir, cls)\n",
        "\n",
        "#     # Create class directories in train, val, test\n",
        "#     os.makedirs(train_cls_dir, exist_ok=True)\n",
        "#     os.makedirs(val_cls_dir, exist_ok=True)\n",
        "#     os.makedirs(test_cls_dir, exist_ok=True)\n",
        "\n",
        "#     # Get all images in the source class directory\n",
        "#     images = [os.path.join(src_dir, img) for img in os.listdir(src_dir) if img.endswith('.jpg')]\n",
        "\n",
        "#     # Split images into train, val, test\n",
        "#     train_images, temp_images = train_test_split(images, test_size=0.4, random_state=42)\n",
        "#     val_images, test_images = train_test_split(temp_images, test_size=0.5, random_state=42)\n",
        "\n",
        "#     # Move images to their new locations\n",
        "#     for img in train_images:\n",
        "#         shutil.move(img, train_cls_dir)\n",
        "#     for img in val_images:\n",
        "#         shutil.move(img, val_cls_dir)\n",
        "#     for img in test_images:\n",
        "#         shutil.move(img, test_cls_dir)\n",
        "\n",
        "# print(\"Dataset setup complete.\")"
      ]
    },
    {
      "cell_type": "code",
      "execution_count": null,
      "metadata": {
        "colab": {
          "base_uri": "https://localhost:8080/"
        },
        "id": "ICT3Zkbx1Zhv",
        "outputId": "f4727e99-699d-4d64-9b78-51bd064e4a27"
      },
      "outputs": [
        {
          "name": "stdout",
          "output_type": "stream",
          "text": [
            "Dataset setup for face17 and face18 is complete.\n"
          ]
        }
      ],
      "source": [
        "# # Base directory where the class directories are located\n",
        "# base_dir = '/content/drive/MyDrive/WORKS/FACIAL RECOGNITION RESEARCH]/data/ExtractedTerravicDatabase'\n",
        "# train_dir = os.path.join(base_dir, 'train')\n",
        "# val_dir = os.path.join(base_dir, 'val')\n",
        "# test_dir = os.path.join(base_dir, 'test')\n",
        "\n",
        "# # Ensure the base directories exist\n",
        "# os.makedirs(train_dir, exist_ok=True)\n",
        "# os.makedirs(val_dir, exist_ok=True)\n",
        "# os.makedirs(test_dir, exist_ok=True)\n",
        "\n",
        "# # Remaining face classes to be processed\n",
        "# remaining_classes = ['face17', 'face18']\n",
        "\n",
        "# # Process each remaining class\n",
        "# for cls in remaining_classes:\n",
        "#     src_dir = os.path.join(base_dir, cls)\n",
        "\n",
        "#     # Destination directories for each class in train, val, test\n",
        "#     train_cls_dir = os.path.join(train_dir, cls)\n",
        "#     val_cls_dir = os.path.join(val_dir, cls)\n",
        "#     test_cls_dir = os.path.join(test_dir, cls)\n",
        "\n",
        "#     # Create class directories in train, val, test\n",
        "#     os.makedirs(train_cls_dir, exist_ok=True)\n",
        "#     os.makedirs(val_cls_dir, exist_ok=True)\n",
        "#     os.makedirs(test_cls_dir, exist_ok=True)\n",
        "\n",
        "#     # Get all images in the source class directory\n",
        "#     images = [os.path.join(src_dir, img) for img in os.listdir(src_dir) if img.endswith('.jpg')]\n",
        "\n",
        "#     # Split images into train, val, test\n",
        "#     train_images, temp_images = train_test_split(images, test_size=0.4, random_state=42)\n",
        "#     val_images, test_images = train_test_split(temp_images, test_size=0.5, random_state=42)\n",
        "\n",
        "#     # Move images to their new locations\n",
        "#     for img in train_images:\n",
        "#         shutil.move(img, train_cls_dir)\n",
        "#     for img in val_images:\n",
        "#         shutil.move(img, val_cls_dir)\n",
        "#     for img in test_images:\n",
        "#         shutil.move(img, test_cls_dir)\n",
        "\n",
        "# print(\"Dataset setup for face17 and face18 is complete.\")"
      ]
    },
    {
      "cell_type": "code",
      "execution_count": null,
      "metadata": {
        "id": "UjGDjarDQZiU"
      },
      "outputs": [],
      "source": []
    }
  ],
  "metadata": {
    "colab": {
      "provenance": []
    },
    "kernelspec": {
      "display_name": "Python 3",
      "name": "python3"
    },
    "language_info": {
      "name": "python"
    }
  },
  "nbformat": 4,
  "nbformat_minor": 0
}
